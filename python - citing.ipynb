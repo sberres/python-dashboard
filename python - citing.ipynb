{
 "cells": [
  {
   "cell_type": "markdown",
   "id": "62fc243e",
   "metadata": {},
   "source": [
    "This notebook shows how crossreferences can be explored in python.\n",
    "\n",
    "As a preparatory step you need to install \"crossrefapi\":\n",
    "\n",
    "> pip install crossrefapi\n",
    "\n",
    "A good introduction demo is https://pypi.org/project/crossrefapi/1.0.3/, here we focus at the main funcionality.\n"
   ]
  },
  {
   "cell_type": "markdown",
   "id": "244d6c9f",
   "metadata": {},
   "source": [
    "To start with we set up the environment."
   ]
  },
  {
   "cell_type": "code",
   "execution_count": 14,
   "id": "ff30123b",
   "metadata": {},
   "outputs": [],
   "source": [
    "from crossref.restful import Works\n",
    "works = Works()"
   ]
  },
  {
   "cell_type": "markdown",
   "id": "28729fc6",
   "metadata": {},
   "source": [
    "Choose a DOI and retrive the article information.\n",
    "\n",
    "Here you might change to an \"own\" DOI"
   ]
  },
  {
   "cell_type": "code",
   "execution_count": 15,
   "id": "ea7b686d",
   "metadata": {},
   "outputs": [],
   "source": [
    "DOI = '10.1017/jfm.2017.541'\n",
    "dct = works.doi(DOI)"
   ]
  },
  {
   "cell_type": "markdown",
   "id": "f154bc71",
   "metadata": {},
   "source": [
    "An readable output format is as a json object."
   ]
  },
  {
   "cell_type": "code",
   "execution_count": 12,
   "id": "3bc9d8b5",
   "metadata": {},
   "outputs": [
    {
     "name": "stdout",
     "output_type": "stream",
     "text": [
      "{\n",
      "    \"DOI\": \"10.1017/jfm.2017.541\",\n",
      "    \"ISSN\": [\n",
      "        \"0022-1120\",\n",
      "        \"1469-7645\"\n",
      "    ],\n",
      "    \"URL\": \"http://dx.doi.org/10.1017/jfm.2017.541\",\n",
      "    \"abstract\": \"<jats:p>The pressure-driven growth model is used to determine the shape of a foam front propagating into an oil reservoir. It is shown that the front, idealised as a curve separating surfactant solution downstream from gas upstream, can be subdivided into two regions: a lower region (approximately parabolic in shape and consisting primarily of material points which have been on the foam front continuously since time zero) and an upper region (consisting of material points which have been newly injected onto the foam front from the top boundary). Various conjectures are presented for the shape of the upper region. A formulation which assumes that the bottom of the upper region is oriented in the same direction as the top of the lower region is shown to fail, as (despite the orientations being aligned) there is a mismatch in location: the upper and lower regions fail to intersect. Alternative formulations are developed which allow the upper region to curve sufficiently so as to intersect the lower region. These formulations imply that the lower and upper regions (whilst individually being of a convex shape as seen from downstream) actually meet in a concave corner, contradicting the conventional hypothesis in the literature that the front is wholly convex. The shape of the upper region as predicted here and the presence of the concave corner are independently verified via numerical simulation data.</jats:p>\",\n",
      "    \"alternative-id\": [\n",
      "        \"S0022112017005419\"\n",
      "    ],\n",
      "    \"assertion\": [\n",
      "        {\n",
      "            \"group\": {\n",
      "                \"label\": \"Copyright and Licensing\",\n",
      "                \"name\": \"copyright_and_licensing\"\n",
      "            },\n",
      "            \"label\": \"License\",\n",
      "            \"name\": \"license\",\n",
      "            \"value\": \"\\u00a9 2017 Cambridge University Press\\u00a0\"\n",
      "        }\n",
      "    ],\n",
      "    \"author\": [\n",
      "        {\n",
      "            \"ORCID\": \"http://orcid.org/0000-0001-5236-1850\",\n",
      "            \"affiliation\": [],\n",
      "            \"authenticated-orcid\": false,\n",
      "            \"family\": \"Grassia\",\n",
      "            \"given\": \"P.\",\n",
      "            \"sequence\": \"first\"\n",
      "        },\n",
      "        {\n",
      "            \"affiliation\": [],\n",
      "            \"family\": \"Lue\",\n",
      "            \"given\": \"L.\",\n",
      "            \"sequence\": \"additional\"\n",
      "        },\n",
      "        {\n",
      "            \"affiliation\": [],\n",
      "            \"family\": \"Torres-Ulloa\",\n",
      "            \"given\": \"C.\",\n",
      "            \"sequence\": \"additional\"\n",
      "        },\n",
      "        {\n",
      "            \"affiliation\": [],\n",
      "            \"family\": \"Berres\",\n",
      "            \"given\": \"S.\",\n",
      "            \"sequence\": \"additional\"\n",
      "        }\n",
      "    ],\n",
      "    \"container-title\": [\n",
      "        \"Journal of Fluid Mechanics\"\n",
      "    ],\n",
      "    \"content-domain\": {\n",
      "        \"crossmark-restriction\": true,\n",
      "        \"domain\": [\n",
      "            \"www.cambridge.org\"\n",
      "        ]\n",
      "    },\n",
      "    \"created\": {\n",
      "        \"date-parts\": [\n",
      "            [\n",
      "                2017,\n",
      "                9,\n",
      "                5\n",
      "            ]\n",
      "        ],\n",
      "        \"date-time\": \"2017-09-05T06:52:09Z\",\n",
      "        \"timestamp\": 1504594329000\n",
      "    },\n",
      "    \"deposited\": {\n",
      "        \"date-parts\": [\n",
      "            [\n",
      "                2019,\n",
      "                6,\n",
      "                7\n",
      "            ]\n",
      "        ],\n",
      "        \"date-time\": \"2019-06-07T17:07:18Z\",\n",
      "        \"timestamp\": 1559927238000\n",
      "    },\n",
      "    \"indexed\": {\n",
      "        \"date-parts\": [\n",
      "            [\n",
      "                2022,\n",
      "                3,\n",
      "                28\n",
      "            ]\n",
      "        ],\n",
      "        \"date-time\": \"2022-03-28T23:25:35Z\",\n",
      "        \"timestamp\": 1648509935977\n",
      "    },\n",
      "    \"is-referenced-by-count\": 6,\n",
      "    \"issn-type\": [\n",
      "        {\n",
      "            \"type\": \"print\",\n",
      "            \"value\": \"0022-1120\"\n",
      "        },\n",
      "        {\n",
      "            \"type\": \"electronic\",\n",
      "            \"value\": \"1469-7645\"\n",
      "        }\n",
      "    ],\n",
      "    \"issued\": {\n",
      "        \"date-parts\": [\n",
      "            [\n",
      "                2017,\n",
      "                9,\n",
      "                5\n",
      "            ]\n",
      "        ]\n",
      "    },\n",
      "    \"language\": \"en\",\n",
      "    \"license\": [\n",
      "        {\n",
      "            \"URL\": \"https://www.cambridge.org/core/terms\",\n",
      "            \"content-version\": \"unspecified\",\n",
      "            \"delay-in-days\": 0,\n",
      "            \"start\": {\n",
      "                \"date-parts\": [\n",
      "                    [\n",
      "                        2017,\n",
      "                        9,\n",
      "                        5\n",
      "                    ]\n",
      "                ],\n",
      "                \"date-time\": \"2017-09-05T00:00:00Z\",\n",
      "                \"timestamp\": 1504569600000\n",
      "            }\n",
      "        }\n",
      "    ],\n",
      "    \"link\": [\n",
      "        {\n",
      "            \"URL\": \"https://www.cambridge.org/core/services/aop-cambridge-core/content/view/S0022112017005419\",\n",
      "            \"content-type\": \"unspecified\",\n",
      "            \"content-version\": \"vor\",\n",
      "            \"intended-application\": \"similarity-checking\"\n",
      "        }\n",
      "    ],\n",
      "    \"member\": \"56\",\n",
      "    \"original-title\": [],\n",
      "    \"page\": \"527-572\",\n",
      "    \"prefix\": \"10.1017\",\n",
      "    \"published\": {\n",
      "        \"date-parts\": [\n",
      "            [\n",
      "                2017,\n",
      "                9,\n",
      "                5\n",
      "            ]\n",
      "        ]\n",
      "    },\n",
      "    \"published-online\": {\n",
      "        \"date-parts\": [\n",
      "            [\n",
      "                2017,\n",
      "                9,\n",
      "                5\n",
      "            ]\n",
      "        ]\n",
      "    },\n",
      "    \"published-print\": {\n",
      "        \"date-parts\": [\n",
      "            [\n",
      "                2017,\n",
      "                10,\n",
      "                10\n",
      "            ]\n",
      "        ]\n",
      "    },\n",
      "    \"publisher\": \"Cambridge University Press (CUP)\",\n",
      "    \"reference\": [\n",
      "        {\n",
      "            \"author\": \"Sethian\",\n",
      "            \"key\": \"S0022112017005419_r22\",\n",
      "            \"volume-title\": \"Level Set Methods and Fast Marching Methods: Evolving Interfaces in Computational Geometry, Fluid Mechanics, Computer Vision and Materials Science\",\n",
      "            \"year\": \"1999\"\n",
      "        },\n",
      "        {\n",
      "            \"DOI\": \"10.2118/164891-PA\",\n",
      "            \"doi-asserted-by\": \"publisher\",\n",
      "            \"key\": \"S0022112017005419_r27\"\n",
      "        },\n",
      "        {\n",
      "            \"key\": \"S0022112017005419_r26\",\n",
      "            \"unstructured\": \"Torres-Ulloa, C. 2015 Predicci\\u00f3n del frente espuma-petr\\u00f3leo en coordenadas Eulerianas. Masters thesis, Universidad Cat\\u00f3lica de Temuco, in Spanish.\"\n",
      "        },\n",
      "        {\n",
      "            \"DOI\": \"10.1016/j.colsurfa.2017.03.059\",\n",
      "            \"doi-asserted-by\": \"publisher\",\n",
      "            \"key\": \"S0022112017005419_r4\"\n",
      "        },\n",
      "        {\n",
      "            \"DOI\": \"10.1016/j.cis.2012.07.002\",\n",
      "            \"doi-asserted-by\": \"publisher\",\n",
      "            \"key\": \"S0022112017005419_r3\"\n",
      "        },\n",
      "        {\n",
      "            \"key\": \"S0022112017005419_r24\",\n",
      "            \"unstructured\": \"Shi, J.-X. 1996 Simulation and experimental studies of foam for enhanced oil recovery. PhD thesis, University of Texas at Austin.\"\n",
      "        },\n",
      "        {\n",
      "            \"author\": \"Lake\",\n",
      "            \"key\": \"S0022112017005419_r9\",\n",
      "            \"volume-title\": \"Enhanced Oil Recovery\",\n",
      "            \"year\": \"2010\"\n",
      "        },\n",
      "        {\n",
      "            \"DOI\": \"10.2118/166244-PA\",\n",
      "            \"doi-asserted-by\": \"publisher\",\n",
      "            \"key\": \"S0022112017005419_r2\"\n",
      "        },\n",
      "        {\n",
      "            \"DOI\": \"10.2118/39102-PA\",\n",
      "            \"doi-asserted-by\": \"publisher\",\n",
      "            \"key\": \"S0022112017005419_r7\"\n",
      "        },\n",
      "        {\n",
      "            \"DOI\": \"10.2118/169104-PA\",\n",
      "            \"doi-asserted-by\": \"publisher\",\n",
      "            \"key\": \"S0022112017005419_r10\"\n",
      "        },\n",
      "        {\n",
      "            \"DOI\": \"10.1017/jfm.2014.287\",\n",
      "            \"doi-asserted-by\": \"publisher\",\n",
      "            \"key\": \"S0022112017005419_r5\"\n",
      "        },\n",
      "        {\n",
      "            \"article-title\": \"Foam improved oil recovery: modelling the effect of an increase in injection pressure\",\n",
      "            \"author\": \"Mas-Hern\\u00e1ndez\",\n",
      "            \"first-page\": \"67\",\n",
      "            \"journal-title\": \"Eur. Phys. J.\\u00a0E\",\n",
      "            \"key\": \"S0022112017005419_r12\",\n",
      "            \"volume\": \"38\",\n",
      "            \"year\": \"2015b\"\n",
      "        },\n",
      "        {\n",
      "            \"DOI\": \"10.2118/165282-PA\",\n",
      "            \"doi-asserted-by\": \"publisher\",\n",
      "            \"key\": \"S0022112017005419_r20\"\n",
      "        },\n",
      "        {\n",
      "            \"author\": \"Xu\",\n",
      "            \"key\": \"S0022112017005419_r28\",\n",
      "            \"volume-title\": \"SPE Annual Technical Conference and Exhibition, Denver, 5th\\u20138th, October\",\n",
      "            \"year\": \"2003\"\n",
      "        },\n",
      "        {\n",
      "            \"author\": \"Shi\",\n",
      "            \"key\": \"S0022112017005419_r25\",\n",
      "            \"volume-title\": \"Improved Oil Recovery Symposium, Tulsa, OK, 19th\\u201322nd April\",\n",
      "            \"year\": \"1989\"\n",
      "        },\n",
      "        {\n",
      "            \"DOI\": \"10.1021/ba-1994-0242.ch001\",\n",
      "            \"doi-asserted-by\": \"publisher\",\n",
      "            \"key\": \"S0022112017005419_r21\"\n",
      "        },\n",
      "        {\n",
      "            \"article-title\": \"Foam front propagation in anisotropic oil reservoirs\",\n",
      "            \"author\": \"Grassia\",\n",
      "            \"first-page\": \"42\",\n",
      "            \"journal-title\": \"Eur. Phys. J.\\u00a0E\",\n",
      "            \"key\": \"S0022112017005419_r6\",\n",
      "            \"volume\": \"39\",\n",
      "            \"year\": \"2016\"\n",
      "        },\n",
      "        {\n",
      "            \"author\": \"Press\",\n",
      "            \"key\": \"S0022112017005419_r18\",\n",
      "            \"volume-title\": \"Numerical Recipes in C: The Art of Scientific Computing\",\n",
      "            \"year\": \"1992\"\n",
      "        },\n",
      "        {\n",
      "            \"DOI\": \"10.1016/j.colsurfa.2016.07.064\",\n",
      "            \"doi-asserted-by\": \"publisher\",\n",
      "            \"key\": \"S0022112017005419_r13\"\n",
      "        },\n",
      "        {\n",
      "            \"DOI\": \"10.1021/acs.iecr.6b01424\",\n",
      "            \"doi-asserted-by\": \"publisher\",\n",
      "            \"key\": \"S0022112017005419_r29\"\n",
      "        },\n",
      "        {\n",
      "            \"DOI\": \"10.1007/978-3-662-05441-3\",\n",
      "            \"doi-asserted-by\": \"publisher\",\n",
      "            \"key\": \"S0022112017005419_r1\"\n",
      "        },\n",
      "        {\n",
      "            \"DOI\": \"10.2118/88811-PA\",\n",
      "            \"doi-asserted-by\": \"publisher\",\n",
      "            \"key\": \"S0022112017005419_r23\"\n",
      "        },\n",
      "        {\n",
      "            \"DOI\": \"10.1006/jcph.1999.6345\",\n",
      "            \"doi-asserted-by\": \"publisher\",\n",
      "            \"key\": \"S0022112017005419_r17\"\n",
      "        },\n",
      "        {\n",
      "            \"DOI\": \"10.1016/j.jcis.2015.10.017\",\n",
      "            \"doi-asserted-by\": \"publisher\",\n",
      "            \"key\": \"S0022112017005419_r15\"\n",
      "        },\n",
      "        {\n",
      "            \"DOI\": \"10.1007/b98879\",\n",
      "            \"doi-asserted-by\": \"publisher\",\n",
      "            \"key\": \"S0022112017005419_r16\"\n",
      "        },\n",
      "        {\n",
      "            \"DOI\": \"10.1016/j.colsurfa.2014.12.023\",\n",
      "            \"doi-asserted-by\": \"publisher\",\n",
      "            \"key\": \"S0022112017005419_r11\"\n",
      "        },\n",
      "        {\n",
      "            \"author\": \"Rossen\",\n",
      "            \"first-page\": \"99\",\n",
      "            \"key\": \"S0022112017005419_r19\",\n",
      "            \"volume-title\": \"Foams: Theory, Measurements and Applications\",\n",
      "            \"year\": \"1996\"\n",
      "        },\n",
      "        {\n",
      "            \"DOI\": \"10.1137/S1064827500373413\",\n",
      "            \"doi-asserted-by\": \"publisher\",\n",
      "            \"key\": \"S0022112017005419_r8\"\n",
      "        },\n",
      "        {\n",
      "            \"DOI\": \"10.1016/j.colsurfa.2015.06.023\",\n",
      "            \"doi-asserted-by\": \"publisher\",\n",
      "            \"key\": \"S0022112017005419_r14\"\n",
      "        }\n",
      "    ],\n",
      "    \"reference-count\": 29,\n",
      "    \"references-count\": 29,\n",
      "    \"relation\": {},\n",
      "    \"resource\": {\n",
      "        \"primary\": {\n",
      "            \"URL\": \"https://www.cambridge.org/core/product/identifier/S0022112017005419/type/journal_article\"\n",
      "        }\n",
      "    },\n",
      "    \"score\": 1,\n",
      "    \"short-container-title\": [\n",
      "        \"J. Fluid Mech.\"\n",
      "    ],\n",
      "    \"short-title\": [],\n",
      "    \"source\": \"Crossref\",\n",
      "    \"subject\": [\n",
      "        \"Mechanical Engineering\",\n",
      "        \"Mechanics of Materials\",\n",
      "        \"Condensed Matter Physics\"\n",
      "    ],\n",
      "    \"subtitle\": [],\n",
      "    \"title\": [\n",
      "        \"Foam front advance during improved oil recovery: similarity solutions at early times near the top of the front\"\n",
      "    ],\n",
      "    \"type\": \"journal-article\",\n",
      "    \"update-policy\": \"http://dx.doi.org/10.1017/policypage\",\n",
      "    \"volume\": \"828\"\n",
      "}\n"
     ]
    }
   ],
   "source": [
    "import json\n",
    "print(json.dumps(dct, sort_keys=True, indent=4))"
   ]
  },
  {
   "cell_type": "markdown",
   "id": "cb31fce0",
   "metadata": {},
   "source": [
    "E.g. we want to look up some author information:"
   ]
  },
  {
   "cell_type": "code",
   "execution_count": 19,
   "id": "52ee4d3f",
   "metadata": {},
   "outputs": [
    {
     "name": "stdout",
     "output_type": "stream",
     "text": [
      "4\n"
     ]
    },
    {
     "data": {
      "text/plain": [
       "{'ORCID': 'http://orcid.org/0000-0001-5236-1850',\n",
       " 'authenticated-orcid': False,\n",
       " 'given': 'P.',\n",
       " 'family': 'Grassia',\n",
       " 'sequence': 'first',\n",
       " 'affiliation': []}"
      ]
     },
     "execution_count": 19,
     "metadata": {},
     "output_type": "execute_result"
    }
   ],
   "source": [
    "authors = dc.get('author')\n",
    "print(len(authors))\n",
    "authors[0]\n",
    "\n"
   ]
  },
  {
   "cell_type": "markdown",
   "id": "57376b85",
   "metadata": {},
   "source": [
    "Get the abstract."
   ]
  },
  {
   "cell_type": "code",
   "execution_count": 22,
   "id": "77e4a971",
   "metadata": {},
   "outputs": [
    {
     "name": "stdout",
     "output_type": "stream",
     "text": [
      "<jats:p>The pressure-driven growth model is used to determine the shape of a foam front propagating into an oil reservoir. It is shown that the front, idealised as a curve separating surfactant solution downstream from gas upstream, can be subdivided into two regions: a lower region (approximately parabolic in shape and consisting primarily of material points which have been on the foam front continuously since time zero) and an upper region (consisting of material points which have been newly injected onto the foam front from the top boundary). Various conjectures are presented for the shape of the upper region. A formulation which assumes that the bottom of the upper region is oriented in the same direction as the top of the lower region is shown to fail, as (despite the orientations being aligned) there is a mismatch in location: the upper and lower regions fail to intersect. Alternative formulations are developed which allow the upper region to curve sufficiently so as to intersect the lower region. These formulations imply that the lower and upper regions (whilst individually being of a convex shape as seen from downstream) actually meet in a concave corner, contradicting the conventional hypothesis in the literature that the front is wholly convex. The shape of the upper region as predicted here and the presence of the concave corner are independently verified via numerical simulation data.</jats:p>\n"
     ]
    }
   ],
   "source": [
    "abstract = dct.get('abstract')\n",
    "print(abstract)"
   ]
  },
  {
   "cell_type": "markdown",
   "id": "ab266d6f",
   "metadata": {},
   "source": [
    "Get the references"
   ]
  },
  {
   "cell_type": "code",
   "execution_count": 28,
   "id": "77a346cd",
   "metadata": {},
   "outputs": [
    {
     "data": {
      "text/plain": [
       "29"
      ]
     },
     "execution_count": 28,
     "metadata": {},
     "output_type": "execute_result"
    }
   ],
   "source": [
    "references = dct.get('reference')\n",
    "len(references)"
   ]
  },
  {
   "cell_type": "code",
   "execution_count": 29,
   "id": "71ce18fc",
   "metadata": {},
   "outputs": [
    {
     "data": {
      "text/plain": [
       "{'key': 'S0022112017005419_r3',\n",
       " 'doi-asserted-by': 'publisher',\n",
       " 'DOI': '10.1016/j.cis.2012.07.002'}"
      ]
     },
     "execution_count": 29,
     "metadata": {},
     "output_type": "execute_result"
    }
   ],
   "source": [
    "references[4]"
   ]
  },
  {
   "cell_type": "code",
   "execution_count": 30,
   "id": "08d490fe",
   "metadata": {},
   "outputs": [
    {
     "data": {
      "text/plain": [
       "'10.1016/j.cis.2012.07.002'"
      ]
     },
     "execution_count": 30,
     "metadata": {},
     "output_type": "execute_result"
    }
   ],
   "source": [
    "references[4].get('DOI')"
   ]
  },
  {
   "cell_type": "markdown",
   "id": "72cfdc45",
   "metadata": {},
   "source": [
    "Looping over the references we can display the DOI of each reference."
   ]
  },
  {
   "cell_type": "code",
   "execution_count": 38,
   "id": "e5b806c4",
   "metadata": {
    "scrolled": true
   },
   "outputs": [
    {
     "name": "stdout",
     "output_type": "stream",
     "text": [
      "0 :  None\n",
      "1 :  10.2118/164891-PA\n",
      "2 :  None\n",
      "3 :  10.1016/j.colsurfa.2017.03.059\n",
      "4 :  10.1016/j.cis.2012.07.002\n",
      "5 :  None\n",
      "6 :  None\n",
      "7 :  10.2118/166244-PA\n",
      "8 :  10.2118/39102-PA\n",
      "9 :  10.2118/169104-PA\n",
      "10 :  10.1017/jfm.2014.287\n",
      "11 :  None\n",
      "12 :  10.2118/165282-PA\n",
      "13 :  None\n",
      "14 :  None\n",
      "15 :  10.1021/ba-1994-0242.ch001\n",
      "16 :  None\n",
      "17 :  None\n",
      "18 :  10.1016/j.colsurfa.2016.07.064\n",
      "19 :  10.1021/acs.iecr.6b01424\n",
      "20 :  10.1007/978-3-662-05441-3\n",
      "21 :  10.2118/88811-PA\n",
      "22 :  10.1006/jcph.1999.6345\n",
      "23 :  10.1016/j.jcis.2015.10.017\n",
      "24 :  10.1007/b98879\n",
      "25 :  10.1016/j.colsurfa.2014.12.023\n",
      "26 :  None\n",
      "27 :  10.1137/S1064827500373413\n",
      "28 :  10.1016/j.colsurfa.2015.06.023\n"
     ]
    }
   ],
   "source": [
    "for k in range(0, len(references)):\n",
    "    ref_doi = references[k].get('DOI')\n",
    "    print(k, ': ', ref_doi)"
   ]
  },
  {
   "cell_type": "markdown",
   "id": "5035aafd",
   "metadata": {},
   "source": [
    "Recall the possibility to download a \"pdf\" file by sci-hub, for a known DOI:"
   ]
  },
  {
   "cell_type": "code",
   "execution_count": 56,
   "id": "55ce027d",
   "metadata": {
    "scrolled": true
   },
   "outputs": [
    {
     "name": "stderr",
     "output_type": "stream",
     "text": [
      "[INFO] | 2022/09/03 17:40:48 | Choose scihub url [0]: http://sci-hub.se\n",
      "[INFO] | 2022/09/03 17:40:49 | <- Request: scihub_url=http://sci-hub.se, source=DoiSource[type=doi, id=10.1017/jfm.2017.541]\n",
      "[INFO] | 2022/09/03 17:40:49 | -> Response: status_code=200, content_length=7091\n",
      "[INFO] | 2022/09/03 17:40:49 | * Extracted information: {'url': 'https://zero.sci-hub.se/6541/767bbda4d809eb8d01cbceed9673512f/grassia2017.pdf', 'title': 'Foam front advance during improved oil recovery  similarity solutions at early times near the top of the front. Journal of Fluid Mechanics, 828, 527–572'}\n"
     ]
    },
    {
     "name": "stdout",
     "output_type": "stream",
     "text": [
      "\r",
      "  0% [                                                        ]      0 / 664669\r",
      "  1% [                                                        ]   8192 / 664669\r",
      "  2% [.                                                       ]  16384 / 664669\r",
      "  3% [..                                                      ]  24576 / 664669\r",
      "  4% [..                                                      ]  32768 / 664669\r",
      "  6% [...                                                     ]  40960 / 664669\r",
      "  7% [....                                                    ]  49152 / 664669\r",
      "  8% [....                                                    ]  57344 / 664669\r",
      "  9% [.....                                                   ]  65536 / 664669\r",
      " 11% [......                                                  ]  73728 / 664669\r",
      " 12% [......                                                  ]  81920 / 664669\r",
      " 13% [.......                                                 ]  90112 / 664669\r",
      " 14% [........                                                ]  98304 / 664669\r",
      " 16% [........                                                ] 106496 / 664669\r",
      " 17% [.........                                               ] 114688 / 664669\r",
      " 18% [..........                                              ] 122880 / 664669\r",
      " 19% [...........                                             ] 131072 / 664669\r",
      " 20% [...........                                             ] 139264 / 664669\r",
      " 22% [............                                            ] 147456 / 664669\r",
      " 23% [.............                                           ] 155648 / 664669\r",
      " 24% [.............                                           ] 163840 / 664669\r",
      " 25% [..............                                          ] 172032 / 664669"
     ]
    },
    {
     "name": "stderr",
     "output_type": "stream",
     "text": [
      "[INFO] | 2022/09/03 17:40:50 | ↓ Successfully download the url to: ./paper/Foam front advance during improved oil recovery  similarity solutions at early times near the top of the front. Journal of Fluid Mechanics, 828, 527–572 (1).pdf\n"
     ]
    },
    {
     "name": "stdout",
     "output_type": "stream",
     "text": [
      "\r",
      " 27% [...............                                         ] 180224 / 664669\r",
      " 28% [...............                                         ] 188416 / 664669\r",
      " 29% [................                                        ] 196608 / 664669\r",
      " 30% [.................                                       ] 204800 / 664669\r",
      " 32% [.................                                       ] 212992 / 664669\r",
      " 33% [..................                                      ] 221184 / 664669\r",
      " 34% [...................                                     ] 229376 / 664669\r",
      " 35% [....................                                    ] 237568 / 664669\r",
      " 36% [....................                                    ] 245760 / 664669\r",
      " 38% [.....................                                   ] 253952 / 664669\r",
      " 39% [......................                                  ] 262144 / 664669\r",
      " 40% [......................                                  ] 270336 / 664669\r",
      " 41% [.......................                                 ] 278528 / 664669\r",
      " 43% [........................                                ] 286720 / 664669\r",
      " 44% [........................                                ] 294912 / 664669\r",
      " 45% [.........................                               ] 303104 / 664669\r",
      " 46% [..........................                              ] 311296 / 664669\r",
      " 48% [..........................                              ] 319488 / 664669\r",
      " 49% [...........................                             ] 327680 / 664669\r",
      " 50% [............................                            ] 335872 / 664669\r",
      " 51% [............................                            ] 344064 / 664669\r",
      " 52% [.............................                           ] 352256 / 664669\r",
      " 54% [..............................                          ] 360448 / 664669\r",
      " 55% [...............................                         ] 368640 / 664669\r",
      " 56% [...............................                         ] 376832 / 664669\r",
      " 57% [................................                        ] 385024 / 664669\r",
      " 59% [.................................                       ] 393216 / 664669\r",
      " 60% [.................................                       ] 401408 / 664669\r",
      " 61% [..................................                      ] 409600 / 664669\r",
      " 62% [...................................                     ] 417792 / 664669\r",
      " 64% [...................................                     ] 425984 / 664669\r",
      " 65% [....................................                    ] 434176 / 664669\r",
      " 66% [.....................................                   ] 442368 / 664669\r",
      " 67% [.....................................                   ] 450560 / 664669\r",
      " 69% [......................................                  ] 458752 / 664669\r",
      " 70% [.......................................                 ] 466944 / 664669\r",
      " 71% [........................................                ] 475136 / 664669\r",
      " 72% [........................................                ] 483328 / 664669\r",
      " 73% [.........................................               ] 491520 / 664669\r",
      " 75% [..........................................              ] 499712 / 664669\r",
      " 76% [..........................................              ] 507904 / 664669\r",
      " 77% [...........................................             ] 516096 / 664669\r",
      " 78% [............................................            ] 524288 / 664669\r",
      " 80% [............................................            ] 532480 / 664669\r",
      " 81% [.............................................           ] 540672 / 664669\r",
      " 82% [..............................................          ] 548864 / 664669\r",
      " 83% [..............................................          ] 557056 / 664669\r",
      " 85% [...............................................         ] 565248 / 664669\r",
      " 86% [................................................        ] 573440 / 664669\r",
      " 87% [.................................................       ] 581632 / 664669\r",
      " 88% [.................................................       ] 589824 / 664669\r",
      " 89% [..................................................      ] 598016 / 664669\r",
      " 91% [...................................................     ] 606208 / 664669\r",
      " 92% [...................................................     ] 614400 / 664669\r",
      " 93% [....................................................    ] 622592 / 664669\r",
      " 94% [.....................................................   ] 630784 / 664669\r",
      " 96% [.....................................................   ] 638976 / 664669\r",
      " 97% [......................................................  ] 647168 / 664669\r",
      " 98% [....................................................... ] 655360 / 664669\r",
      " 99% [....................................................... ] 663552 / 664669\r",
      "100% [........................................................] 664669 / 664669\n"
     ]
    }
   ],
   "source": [
    "from scidownl import scihub_download\n",
    "\n",
    "# paper = \"https://doi.org/10.1017/jfm.2017.541\"\n",
    "doi = \"10.1017/jfm.2017.541\"\n",
    "out = \"./paper/\"\n",
    "# scihub_download(doi, paper_type=\"doi\")\n",
    "scihub_download(doi, out=out)"
   ]
  },
  {
   "cell_type": "markdown",
   "id": "4e53ed15",
   "metadata": {},
   "source": [
    "Now we can download all pdf files where the reference contains a DOI.\n",
    "We have to weed out the cases where a reference does not have a DOI."
   ]
  },
  {
   "cell_type": "code",
   "execution_count": 55,
   "id": "8d37398b",
   "metadata": {},
   "outputs": [
    {
     "name": "stdout",
     "output_type": "stream",
     "text": [
      "---------------------------\n",
      "1 10.2118/164891-PA\n",
      "---------------------------\n",
      "3 10.1016/j.colsurfa.2017.03.059\n",
      "4 10.1016/j.cis.2012.07.002\n",
      "---------------------------\n",
      "---------------------------\n",
      "7 10.2118/166244-PA\n",
      "8 10.2118/39102-PA\n",
      "9 10.2118/169104-PA\n",
      "10 10.1017/jfm.2014.287\n",
      "---------------------------\n",
      "12 10.2118/165282-PA\n",
      "---------------------------\n",
      "---------------------------\n",
      "15 10.1021/ba-1994-0242.ch001\n",
      "---------------------------\n",
      "---------------------------\n",
      "18 10.1016/j.colsurfa.2016.07.064\n",
      "19 10.1021/acs.iecr.6b01424\n",
      "20 10.1007/978-3-662-05441-3\n",
      "21 10.2118/88811-PA\n",
      "22 10.1006/jcph.1999.6345\n",
      "23 10.1016/j.jcis.2015.10.017\n",
      "24 10.1007/b98879\n",
      "25 10.1016/j.colsurfa.2014.12.023\n",
      "---------------------------\n",
      "27 10.1137/S1064827500373413\n",
      "28 10.1016/j.colsurfa.2015.06.023\n"
     ]
    }
   ],
   "source": [
    "for k in range(0, len(references)):\t\n",
    "    ref_doi=references[k].get('DOI')\n",
    "    if ref_doi != \"None\":\n",
    "        if(ref_doi):\n",
    "            print(k, ref_doi)\n",
    "            # scihub_download(ref_doi, out=out)\n",
    "        else:\n",
    "            print(\"---------------------------\")"
   ]
  },
  {
   "cell_type": "markdown",
   "id": "380e723f",
   "metadata": {},
   "source": [
    "\n",
    "\n"
   ]
  },
  {
   "cell_type": "markdown",
   "id": "8b1b754d",
   "metadata": {},
   "source": [
    "...now a question is how we can also access to \"cross references\" that is DOI's articles that reference an article with a given DOI.\n",
    "\n",
    "\n",
    "We do allow searches for the counts against a DOI for cited by but at the moment there is no way in the REST API to search for cited by metadata for works, as members can only retrieve cited-by metadata for their own content.\n",
    "More information can be found here: https://www.crossref.org/services/cited-by/https://github.com/CrossRef/rest-api-doc/issues/374\n",
    "\n",
    "Not from Crossref, but from @opencitations there is COCI, the OpenCitations Index of Crossref open DOI-to-DOI references, cf. this blogpost https://opencitations.wordpress.com/2018/07/12/coci/ which allows such queries on the open part of the Crossref citation data.\n",
    "\n",
    "\n",
    "\n",
    "\n",
    "\n",
    "\n",
    "\n"
   ]
  },
  {
   "cell_type": "markdown",
   "id": "9ae922d4",
   "metadata": {},
   "source": [
    "It seems that \"Opencitations\" is the better tool.\n",
    "https://github.com/opencitations\n",
    "https://opencitations.net/index/coci/api/v1#/citations/{doi}\n",
    "\n",
    "\n",
    "There are HTTP requests, which can be done from python.\n",
    "https://opencitations.net/index/coci/api/v1/references/10.1017/jfm.2017.541\n",
    "https://opencitations.net/index/coci/api/v1/citations/10.1017/jfm.2017.541"
   ]
  },
  {
   "cell_type": "code",
   "execution_count": 69,
   "id": "7c101b96",
   "metadata": {},
   "outputs": [],
   "source": [
    "import requests\n",
    "# from requests import get\n",
    "\n",
    "DOI = \"10.1017/jfm.2017.541\"\n",
    "\n",
    "\n",
    "API_CALL_CIT= \"https://opencitations.net/index/coci/api/v1/citations/\"\n",
    "API_CALL = API_CALL_CIT + DOI\n",
    "HTTP_HEADERS = {\"authorization\": \"YOUR-OPENCITATIONS-ACCESS-TOKEN\"} # You can read the FAQs and get your token here: https://opencitations.net/accesstoken \n",
    "\n",
    "HTTP_HEADERS = {\"authorization\": \"8bd01ec8-0c5e-44fc-9b56-c7b7565dd487\"}\n",
    "\n",
    "response = requests.get(API_CALL, headers = HTTP_HEADERS)\n",
    "response_dict = json.loads(response.text)\n",
    "\n",
    "# print(json.dumps(response_dict, sort_keys=True, indent=4))\n"
   ]
  },
  {
   "cell_type": "markdown",
   "id": "8ac87cb0",
   "metadata": {},
   "source": [
    "Figuring out the formate of the response."
   ]
  },
  {
   "cell_type": "code",
   "execution_count": 78,
   "id": "42cdf25f",
   "metadata": {},
   "outputs": [
    {
     "data": {
      "text/plain": [
       "{'oci': '0200101040036142519143618020001086301010601086307-0200100010736191522370200010737050401',\n",
       " 'cited': '10.1017/jfm.2017.541',\n",
       " 'author_sc': 'no',\n",
       " 'timespan': 'P0Y4M',\n",
       " 'creation': '2018-01',\n",
       " 'citing': '10.1140/epje/i2018-11618-7',\n",
       " 'journal_sc': 'no'}"
      ]
     },
     "execution_count": 78,
     "metadata": {},
     "output_type": "execute_result"
    }
   ],
   "source": [
    "response_dict[0]"
   ]
  },
  {
   "cell_type": "markdown",
   "id": "0daafefc",
   "metadata": {},
   "source": [
    "So, the citing url is accessible by the label \"citing\"."
   ]
  },
  {
   "cell_type": "code",
   "execution_count": 80,
   "id": "bef9e084",
   "metadata": {},
   "outputs": [
    {
     "data": {
      "text/plain": [
       "'10.1140/epje/i2018-11618-7'"
      ]
     },
     "execution_count": 80,
     "metadata": {},
     "output_type": "execute_result"
    }
   ],
   "source": [
    "response_dict[0].get('citing')"
   ]
  },
  {
   "cell_type": "code",
   "execution_count": 85,
   "id": "89c7bd2a",
   "metadata": {},
   "outputs": [
    {
     "name": "stdout",
     "output_type": "stream",
     "text": [
      "0 10.1140/epje/i2018-11618-7\n",
      "1 10.1098/rspa.2018.0290\n",
      "2 10.1098/rspa.2019.0637\n",
      "3 10.1103/physrevfluids.5.083604\n",
      "4 10.1098/rspa.2020.0573\n",
      "5 10.1098/rspa.2020.0691\n"
     ]
    }
   ],
   "source": [
    "for k in range(0, len(response_dict)):\n",
    "    doi = response_dict[k].get('citing')\n",
    "    if(doi):\n",
    "        print(k, doi)\n",
    "        # scihub_download(doi, out=out)\n",
    "    else:\n",
    "        print(\"---------------------------\")"
   ]
  },
  {
   "cell_type": "code",
   "execution_count": null,
   "id": "d640a8d3",
   "metadata": {},
   "outputs": [],
   "source": []
  },
  {
   "cell_type": "code",
   "execution_count": null,
   "id": "8baa900a",
   "metadata": {},
   "outputs": [],
   "source": []
  },
  {
   "cell_type": "markdown",
   "id": "9e611b5f",
   "metadata": {},
   "source": [
    "It works for both citations and references.\n"
   ]
  },
  {
   "cell_type": "code",
   "execution_count": 65,
   "id": "eb50c549",
   "metadata": {},
   "outputs": [
    {
     "name": "stdout",
     "output_type": "stream",
     "text": [
      "[\n",
      "    {\n",
      "        \"author_sc\": \"no\",\n",
      "        \"cited\": \"10.1006/jcph.1999.6345\",\n",
      "        \"citing\": \"10.1017/jfm.2017.541\",\n",
      "        \"creation\": \"2017-09-05\",\n",
      "        \"journal_sc\": \"no\",\n",
      "        \"oci\": \"0200100010736191522370200010737050401-02001000006361912251737010909093706030405\",\n",
      "        \"timespan\": \"P17Y10M\"\n",
      "    },\n",
      "    {\n",
      "        \"author_sc\": \"no\",\n",
      "        \"cited\": \"10.1007/978-3-662-05441-3\",\n",
      "        \"citing\": \"10.1017/jfm.2017.541\",\n",
      "        \"creation\": \"2017-09-05\",\n",
      "        \"journal_sc\": \"no\",\n",
      "        \"oci\": \"0200100010736191522370200010737050401-02001000007360907086303630606026300050404016303\",\n",
      "        \"timespan\": \"P13Y\"\n",
      "    },\n",
      "    {\n",
      "        \"author_sc\": \"no\",\n",
      "        \"cited\": \"10.1007/b98879\",\n",
      "        \"citing\": \"10.1017/jfm.2017.541\",\n",
      "        \"creation\": \"2017-09-05\",\n",
      "        \"journal_sc\": \"no\",\n",
      "        \"oci\": \"0200100010736191522370200010737050401-0200100000736110908080709\",\n",
      "        \"timespan\": \"P14Y\"\n",
      "    },\n",
      "    {\n",
      "        \"author_sc\": \"no\",\n",
      "        \"cited\": \"10.1016/j.cis.2012.07.002\",\n",
      "        \"citing\": \"10.1017/jfm.2017.541\",\n",
      "        \"creation\": \"2017-09-05\",\n",
      "        \"journal_sc\": \"no\",\n",
      "        \"oci\": \"0200100010736191522370200010737050401-02001000106361937121828370200010237000737000002\",\n",
      "        \"timespan\": \"P4Y10M\"\n",
      "    },\n",
      "    {\n",
      "        \"author_sc\": \"no\",\n",
      "        \"cited\": \"10.1016/j.colsurfa.2014.12.023\",\n",
      "        \"citing\": \"10.1017/jfm.2017.541\",\n",
      "        \"creation\": \"2017-09-05\",\n",
      "        \"journal_sc\": \"no\",\n",
      "        \"oci\": \"0200100010736191522370200010737050401-020010001063619371224212830271510370200010437010237000203\",\n",
      "        \"timespan\": \"P2Y4M\"\n",
      "    },\n",
      "    {\n",
      "        \"author_sc\": \"no\",\n",
      "        \"cited\": \"10.1016/j.colsurfa.2015.06.023\",\n",
      "        \"citing\": \"10.1017/jfm.2017.541\",\n",
      "        \"creation\": \"2017-09-05\",\n",
      "        \"journal_sc\": \"no\",\n",
      "        \"oci\": \"0200100010736191522370200010737050401-020010001063619371224212830271510370200010537000637000203\",\n",
      "        \"timespan\": \"P2Y0M\"\n",
      "    },\n",
      "    {\n",
      "        \"author_sc\": \"no\",\n",
      "        \"cited\": \"10.1016/j.colsurfa.2016.07.064\",\n",
      "        \"citing\": \"10.1017/jfm.2017.541\",\n",
      "        \"creation\": \"2017-09-05\",\n",
      "        \"journal_sc\": \"no\",\n",
      "        \"oci\": \"0200100010736191522370200010737050401-020010001063619371224212830271510370200010637000737000604\",\n",
      "        \"timespan\": \"P0Y9M\"\n",
      "    },\n",
      "    {\n",
      "        \"author_sc\": \"no\",\n",
      "        \"cited\": \"10.1016/j.colsurfa.2017.03.059\",\n",
      "        \"citing\": \"10.1017/jfm.2017.541\",\n",
      "        \"creation\": \"2017-09-05\",\n",
      "        \"journal_sc\": \"no\",\n",
      "        \"oci\": \"0200100010736191522370200010737050401-020010001063619371224212830271510370200010737000337000509\",\n",
      "        \"timespan\": \"-P0Y3M\"\n",
      "    },\n",
      "    {\n",
      "        \"author_sc\": \"no\",\n",
      "        \"cited\": \"10.1016/j.jcis.2015.10.017\",\n",
      "        \"citing\": \"10.1017/jfm.2017.541\",\n",
      "        \"creation\": \"2017-09-05\",\n",
      "        \"journal_sc\": \"no\",\n",
      "        \"oci\": \"0200100010736191522370200010737050401-0200100010636193719121828370200010537000107\",\n",
      "        \"timespan\": \"P1Y8M\"\n",
      "    },\n",
      "    {\n",
      "        \"author_sc\": \"no\",\n",
      "        \"cited\": \"10.1017/jfm.2014.287\",\n",
      "        \"citing\": \"10.1017/jfm.2017.541\",\n",
      "        \"creation\": \"2017-09-05\",\n",
      "        \"journal_sc\": \"yes\",\n",
      "        \"oci\": \"0200100010736191522370200010737050401-0200100010736191522370200010437020807\",\n",
      "        \"timespan\": \"P3Y2M16D\"\n",
      "    },\n",
      "    {\n",
      "        \"author_sc\": \"no\",\n",
      "        \"cited\": \"10.1021/acs.iecr.6b01424\",\n",
      "        \"citing\": \"10.1017/jfm.2017.541\",\n",
      "        \"creation\": \"2017-09-05\",\n",
      "        \"journal_sc\": \"no\",\n",
      "        \"oci\": \"0200100010736191522370200010737050401-020010002013610122837181412273706110001040204\",\n",
      "        \"timespan\": \"P1Y1M30D\"\n",
      "    },\n",
      "    {\n",
      "        \"author_sc\": \"no\",\n",
      "        \"cited\": \"10.1021/ba-1994-0242.ch001\",\n",
      "        \"citing\": \"10.1017/jfm.2017.541\",\n",
      "        \"creation\": \"2017-09-05\",\n",
      "        \"journal_sc\": \"no\",\n",
      "        \"oci\": \"0200100010736191522370200010737050401-0200100020136111063010909046300020402371217000001\",\n",
      "        \"timespan\": \"P22Y10M21D\"\n",
      "    },\n",
      "    {\n",
      "        \"author_sc\": \"no\",\n",
      "        \"cited\": \"10.1137/s1064827500373413\",\n",
      "        \"citing\": \"10.1017/jfm.2017.541\",\n",
      "        \"creation\": \"2017-09-05\",\n",
      "        \"journal_sc\": \"no\",\n",
      "        \"oci\": \"0200100010736191522370200010737050401-02001010307362801000604080207050000030703040103\",\n",
      "        \"timespan\": \"P16Y8M\"\n",
      "    },\n",
      "    {\n",
      "        \"author_sc\": \"no\",\n",
      "        \"cited\": \"10.2118/164891-pa\",\n",
      "        \"citing\": \"10.1017/jfm.2017.541\",\n",
      "        \"creation\": \"2017-09-05\",\n",
      "        \"journal_sc\": \"no\",\n",
      "        \"oci\": \"0200100010736191522370200010737050401-0200201010836010604080901632510\",\n",
      "        \"timespan\": \"P3Y1M4D\"\n",
      "    },\n",
      "    {\n",
      "        \"author_sc\": \"no\",\n",
      "        \"cited\": \"10.2118/165282-pa\",\n",
      "        \"citing\": \"10.1017/jfm.2017.541\",\n",
      "        \"creation\": \"2017-09-05\",\n",
      "        \"journal_sc\": \"no\",\n",
      "        \"oci\": \"0200100010736191522370200010737050401-0200201010836010605020802632510\",\n",
      "        \"timespan\": \"P2Y4M4D\"\n",
      "    },\n",
      "    {\n",
      "        \"author_sc\": \"no\",\n",
      "        \"cited\": \"10.2118/166244-pa\",\n",
      "        \"citing\": \"10.1017/jfm.2017.541\",\n",
      "        \"creation\": \"2017-09-05\",\n",
      "        \"journal_sc\": \"no\",\n",
      "        \"oci\": \"0200100010736191522370200010737050401-0200201010836010606020404632510\",\n",
      "        \"timespan\": \"P3Y7M4D\"\n",
      "    },\n",
      "    {\n",
      "        \"author_sc\": \"no\",\n",
      "        \"cited\": \"10.2118/169104-pa\",\n",
      "        \"citing\": \"10.1017/jfm.2017.541\",\n",
      "        \"creation\": \"2017-09-05\",\n",
      "        \"journal_sc\": \"no\",\n",
      "        \"oci\": \"0200100010736191522370200010737050401-0200201010836010609010004632510\",\n",
      "        \"timespan\": \"P2Y3M4D\"\n",
      "    },\n",
      "    {\n",
      "        \"author_sc\": \"no\",\n",
      "        \"cited\": \"10.2118/39102-pa\",\n",
      "        \"citing\": \"10.1017/jfm.2017.541\",\n",
      "        \"creation\": \"2017-09-05\",\n",
      "        \"journal_sc\": \"no\",\n",
      "        \"oci\": \"0200100010736191522370200010737050401-02002010108360309010002632510\",\n",
      "        \"timespan\": \"P19Y9M4D\"\n",
      "    },\n",
      "    {\n",
      "        \"author_sc\": \"no\",\n",
      "        \"cited\": \"10.2118/88811-pa\",\n",
      "        \"citing\": \"10.1017/jfm.2017.541\",\n",
      "        \"creation\": \"2017-09-05\",\n",
      "        \"journal_sc\": \"no\",\n",
      "        \"oci\": \"0200100010736191522370200010737050401-02002010108360808080101632510\",\n",
      "        \"timespan\": \"P13Y3M4D\"\n",
      "    }\n",
      "]\n"
     ]
    }
   ],
   "source": [
    "API_CALL_REF = \"https://opencitations.net/index/coci/api/v1/references/\"\n",
    "API_CALL = API_CALL_REF + DOI\n",
    "response = requests.get(API_CALL, headers = HTTP_HEADERS)\n",
    "response_dict = json.loads(response.text)\n",
    "\n",
    "print(json.dumps(response_dict, sort_keys=True, indent=4))"
   ]
  },
  {
   "cell_type": "code",
   "execution_count": null,
   "id": "d5cfb3f4",
   "metadata": {},
   "outputs": [],
   "source": []
  },
  {
   "cell_type": "code",
   "execution_count": null,
   "id": "35688a93",
   "metadata": {},
   "outputs": [],
   "source": []
  },
  {
   "cell_type": "code",
   "execution_count": null,
   "id": "b70d7bfa",
   "metadata": {},
   "outputs": [],
   "source": []
  },
  {
   "cell_type": "code",
   "execution_count": null,
   "id": "83d9fedb",
   "metadata": {},
   "outputs": [],
   "source": []
  },
  {
   "cell_type": "code",
   "execution_count": null,
   "id": "e9dae65b",
   "metadata": {},
   "outputs": [],
   "source": []
  },
  {
   "cell_type": "code",
   "execution_count": null,
   "id": "1792e7e7",
   "metadata": {},
   "outputs": [],
   "source": []
  },
  {
   "cell_type": "code",
   "execution_count": null,
   "id": "fd73b64d",
   "metadata": {},
   "outputs": [],
   "source": []
  },
  {
   "cell_type": "code",
   "execution_count": null,
   "id": "ed49b39c",
   "metadata": {},
   "outputs": [],
   "source": []
  },
  {
   "cell_type": "code",
   "execution_count": null,
   "id": "da08ea50",
   "metadata": {},
   "outputs": [],
   "source": []
  },
  {
   "cell_type": "code",
   "execution_count": null,
   "id": "dc813c1f",
   "metadata": {},
   "outputs": [],
   "source": []
  },
  {
   "cell_type": "markdown",
   "id": "98f30860",
   "metadata": {},
   "source": [
    "Here some possiblities for queries with \"crossrefs:"
   ]
  },
  {
   "cell_type": "code",
   "execution_count": 41,
   "id": "3002dc89",
   "metadata": {},
   "outputs": [
    {
     "data": {
      "text/plain": [
       "'https://api.crossref.org/works?query=design+thinking'"
      ]
     },
     "execution_count": 41,
     "metadata": {},
     "output_type": "execute_result"
    }
   ],
   "source": [
    "works = Works()\n",
    "works.query('design thinking').url"
   ]
  },
  {
   "cell_type": "code",
   "execution_count": 42,
   "id": "fdcf0709",
   "metadata": {},
   "outputs": [
    {
     "data": {
      "text/plain": [
       "177241"
      ]
     },
     "execution_count": 42,
     "metadata": {},
     "output_type": "execute_result"
    }
   ],
   "source": [
    "works.query('design thinking').filter(from_online_pub_date='2020').count()"
   ]
  },
  {
   "cell_type": "code",
   "execution_count": 46,
   "id": "1232db45",
   "metadata": {},
   "outputs": [],
   "source": [
    "wq=works.query('design thinking').filter(from_online_pub_date='2020')\n"
   ]
  },
  {
   "cell_type": "markdown",
   "id": "d957b3ea",
   "metadata": {},
   "source": [
    "Other demos\n",
    "* https://pypi.org/project/crossrefapi/1.0.3/\n",
    "* https://github.com/CrossRef/rest-api-doc/blob/master/demos/crossref-api-demo.ipynb\n"
   ]
  },
  {
   "cell_type": "code",
   "execution_count": null,
   "id": "f83cab23",
   "metadata": {},
   "outputs": [],
   "source": []
  },
  {
   "cell_type": "code",
   "execution_count": null,
   "id": "4ddaaff1",
   "metadata": {},
   "outputs": [],
   "source": []
  },
  {
   "cell_type": "code",
   "execution_count": null,
   "id": "459697ab",
   "metadata": {},
   "outputs": [],
   "source": []
  },
  {
   "cell_type": "code",
   "execution_count": null,
   "id": "5a23b5d3",
   "metadata": {},
   "outputs": [],
   "source": [
    "\n",
    "\n"
   ]
  },
  {
   "cell_type": "code",
   "execution_count": null,
   "id": "f10b9f24",
   "metadata": {},
   "outputs": [],
   "source": []
  },
  {
   "cell_type": "code",
   "execution_count": null,
   "id": "c72abdf3",
   "metadata": {},
   "outputs": [],
   "source": []
  },
  {
   "cell_type": "code",
   "execution_count": null,
   "id": "71bf9740",
   "metadata": {},
   "outputs": [],
   "source": []
  }
 ],
 "metadata": {
  "kernelspec": {
   "display_name": "Python 3 (ipykernel)",
   "language": "python",
   "name": "python3"
  },
  "language_info": {
   "codemirror_mode": {
    "name": "ipython",
    "version": 3
   },
   "file_extension": ".py",
   "mimetype": "text/x-python",
   "name": "python",
   "nbconvert_exporter": "python",
   "pygments_lexer": "ipython3",
   "version": "3.9.12"
  }
 },
 "nbformat": 4,
 "nbformat_minor": 5
}
